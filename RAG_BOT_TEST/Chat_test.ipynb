{
 "cells": [
  {
   "cell_type": "code",
   "execution_count": 8,
   "metadata": {},
   "outputs": [
    {
     "name": "stdout",
     "output_type": "stream",
     "text": [
      "Information gathered and stored successfully.\n"
     ]
    }
   ],
   "source": [
    "from openai import OpenAI\n",
    "from dotenv import load_dotenv\n",
    "import json\n",
    "\n",
    "\n",
    "# Initialize the OpenAI API key\n",
    "client = OpenAI()\n",
    "\n",
    "# Set your OpenAI API key\n",
    "\n",
    "load_dotenv()\n",
    "\n",
    "openai.api_key = os.getenv('OPENAI_API_KEY')\n",
    "def ask_question(question):\n",
    "    messages = [\n",
    "        {\"role\": \"system\", \"content\": \"You are a helpful assistant.\"},\n",
    "        {\"role\": \"user\", \"content\": question}\n",
    "    ]\n",
    "    response = client.chat.completions.create(\n",
    "        model=\"gpt-3.5-turbo\",\n",
    "        messages = messages,\n",
    "        max_tokens=150\n",
    "    )\n",
    "    return response.choices[0].message.content\n",
    "\n",
    "def gather_information():\n",
    "    info = {}\n",
    "    \n",
    "    questions = {\n",
    "        \"name\": \"What is your name?\",\n",
    "        \"age\": \"How old are you?\",\n",
    "        \"email\": \"What is your email address?\",\n",
    "        \"feedback\": \"Can you provide some feedback about our service?\"\n",
    "    }\n",
    "    \n",
    "    for key, question in questions.items():\n",
    "        info[key] = ask_question(question)\n",
    "    \n",
    "    return info\n",
    "\n",
    "def store_information(info):\n",
    "    with open('user_info.json', 'w') as file:\n",
    "        json.dump(info, file)\n",
    "\n",
    "if __name__ == \"__main__\":\n",
    "    user_info = gather_information()\n",
    "    store_information(user_info)\n",
    "    print(\"Information gathered and stored successfully.\")\n"
   ]
  }
 ],
 "metadata": {
  "kernelspec": {
   "display_name": "ChatTest",
   "language": "python",
   "name": "python3"
  },
  "language_info": {
   "codemirror_mode": {
    "name": "ipython",
    "version": 3
   },
   "file_extension": ".py",
   "mimetype": "text/x-python",
   "name": "python",
   "nbconvert_exporter": "python",
   "pygments_lexer": "ipython3",
   "version": "3.12.2"
  }
 },
 "nbformat": 4,
 "nbformat_minor": 2
}
