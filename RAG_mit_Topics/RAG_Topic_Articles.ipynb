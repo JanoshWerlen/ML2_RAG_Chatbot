{
 "cells": [
  {
   "cell_type": "code",
   "execution_count": 1,
   "metadata": {},
   "outputs": [],
   "source": [
    "import openai\n",
    "import numpy as np\n",
    "import faiss\n",
    "import json\n",
    "import os\n",
    "\n",
    "# Set your OpenAI API key\n",
    "\n",
    "client = openai.OpenAI()\n",
    "from dotenv import load_dotenv\n",
    "# Set your OpenAI API key\n",
    "\n",
    "load_dotenv()\n",
    "\n",
    "openai.api_key = os.getenv('OPENAI_API_KEY')\n",
    "\n",
    "def load_json(file_path):\n",
    "    with open(file_path, 'r', encoding='utf-8') as file:\n",
    "        return json.load(file)\n",
    "\n",
    "file_path = 'articles_topics.json'\n",
    "data = load_json(file_path)\n",
    "\n",
    "# List of unique topics\n",
    "topics = list(set(article['metadata']['type'] for article in data))\n",
    "\n",
    "# Function to generate embeddings using the OpenAI API\n",
    "def get_embedding(text, model=\"text-embedding-ada-002\"):\n",
    "    text = text.replace(\"\\n\", \" \")\n",
    "    return client.embeddings.create(input=[text], model=model).data[0].embedding\n",
    "    #response = openai.embeddings.create(input=[text], model=model)\n",
    "    #return response['data'][0]['embedding']\n",
    "\n",
    "# Generate embeddings for each topic\n",
    "topic_embeddings = {topic: get_embedding(topic) for topic in topics}\n",
    "\n",
    "# Convert embeddings to NumPy array\n",
    "embeddings = np.array([topic_embeddings[topic] for topic in topics]).astype('float32')\n",
    "\n",
    "# Create a FAISS index for the topics\n",
    "index = faiss.IndexFlatL2(embeddings.shape[1])\n",
    "index.add(embeddings)\n"
   ]
  },
  {
   "cell_type": "code",
   "execution_count": 2,
   "metadata": {},
   "outputs": [
    {
     "name": "stdout",
     "output_type": "stream",
     "text": [
      "Relevant topic: Rechte und Pflichten der Angestellten \n"
     ]
    }
   ],
   "source": [
    "def find_relevant_topic(query):\n",
    "    query_embedding = np.array(get_embedding(query)).astype('float32').reshape(1, -1)\n",
    "    distances, indices = index.search(query_embedding, 1)\n",
    "    return topics[indices[0][0]]\n",
    "\n",
    "# Example user query\n",
    "user_query = \"Kann ich gekündet werden, wenn ich invalide bin?\"\n",
    "relevant_topic = find_relevant_topic(user_query)\n",
    "print(f\"Relevant topic: {relevant_topic}\")\n"
   ]
  },
  {
   "cell_type": "code",
   "execution_count": 3,
   "metadata": {},
   "outputs": [],
   "source": [
    "relevant_articles = [article for article in data if article['metadata']['type'] == relevant_topic]\n",
    "\n",
    "# Generate embeddings for these articles\n",
    "for article in relevant_articles:\n",
    "    article_text = article['text']\n",
    "    article_tags = article['metadata']['tags']\n",
    "    article['embedding'] = get_embedding(article_text + \" \" + \" \".join(article_tags))\n",
    "\n",
    "# Convert embeddings to NumPy array\n",
    "article_embeddings = np.array([article['embedding'] for article in relevant_articles]).astype('float32')\n"
   ]
  },
  {
   "cell_type": "code",
   "execution_count": 10,
   "metadata": {},
   "outputs": [
    {
     "name": "stdout",
     "output_type": "stream",
     "text": [
      "Article Number: Art. 83, Title: Öffentliche Ämter, Text: 1\n",
      "Angestellte, die sich um ein öffentliches Amt bewerben wollen, melden dies der vorgesetzten Stelle. Eine Bewilligung ist erforderlich, sofern Arbeitszeit beansprucht wird. Vorbehalten bleiben Ämter mit Amtszwang. \n",
      "2\n",
      "Die Bewilligung kann mit Auflagen zur Kompensation beanspruchter Arbeitszeit und zur Abgabe von Nebeneinnahmen verbunden werden.\n",
      "\n",
      "Article Number: Art. 73, Title: Mitarbeiterinnen- und Mitarbeiterbeurteilung, Arbeitszeugnis, Text: 1\n",
      "Die Angestellten haben Anspruch auf regelmässige Beurteilung von Leistung und Verhalten. \n",
      "2\n",
      "Die Angestellten können jederzeit ein Zeugnis verlangen, das über die Art und die Dauer des Arbeitsverhältnisses sowie über ihre Leistungen und ihr Verhalten Auskunft gibt. \n",
      "3\n",
      "Auf besonderes Verlangen der Angestellten hat sich das Zeugnis auf Angaben über die Art und Dauer des Arbeitsverhältnisses zu beschränken.\n",
      "\n",
      "Article Number: Art. 68, Title: Schutz der Persönlichkeit, Text: 1\n",
      "Die Arbeitgeberin Stadt Zürich achtet die Persönlichkeit der Angestellten und schützt sie. Sie nimmt auf deren Gesundheit gebührend Rücksicht. \n",
      "2\n",
      "Sie trifft die zum Schutz von Leben, Gesundheit und persönlicher Integrität ihrer Angestellten erforderlichen Massnahmen. \n",
      "3\n",
      "Sie sorgt insbesondere durch Massnahmen, Verfahren und Sanktionen gemäss Art. 34 und 35 für den Schutz der Angestellten \n",
      "a) vor Diskriminierung aufgrund von Geschlecht, geschlechtlicher Orientierung, Herkunft, Sprache, Religion, Behinderung oder vergleichbaren Persönlichkeitsmerkmalen; \n",
      "b) vor sexueller und sexistischer Belästigung. Sie sorgt dafür, dass Angestellten, die durch solche Vorkommnisse behelligt wurden, keine weiteren Nachteile erwachsen.\n",
      "\n",
      "Article Number: Art. 82, Title: Nebenbeschäftigung, Text: 1\n",
      "Die Ausübung einer Nebenbeschäftigung ist nur zulässig, wenn sie die dienstliche Aufgabenerfüllung nicht beeinträchtigt, mit der Stellung vereinbar ist und keine Interessenkollision verursacht. Der Stadtrat kann für Nebenbeschäftigungen eine Meldepflicht vorsehen. \n",
      "2\n",
      "Eine Bewilligung ist erforderlich, sofern Arbeitszeit beansprucht wird. Die Bewilligung kann mit Auflagen zur Kompensation beanspruchter Arbeitszeit und zur Abgabe von Nebeneinnahmen verbunden werden.\n",
      "\n",
      "Article Number: Art. 70, Title: Ferien und Urlaub, Mutterschaft, Militär-, Zivilschutz- und Zivildienst, Text: Der Stadtrat regelt \n",
      "a) den Ferienanspruch, der pro Jahr mindestens vier Wochen betragen muss; \n",
      "b) den Anspruch der weiblichen Angestellten auf bezahlten Mutterschaftsurlaub, der mindestens 16 Wochen betragen muss; \n",
      "c) den Anspruch auf Lohnzahlung bei Militär- und Zivilschutzdienst, Dienst in zivilen Führungsstäben, bei humanitären Einsätzen sowie bei Zivildienst; \n",
      "d) die Gewährung von bezahltem und unbezahltem Urlaub, insbesondere im Zusammenhang mit familiären Verpflichtungen, Elternschaft, Weiterbildung und Tätigkeiten in Personalverbänden.\n",
      "\n",
      "\n"
     ]
    }
   ],
   "source": [
    "# Create a base index for the relevant articles\n",
    "article_index = faiss.IndexFlatL2(article_embeddings.shape[1])\n",
    "\n",
    "# Create an IndexIDMap\n",
    "article_index = faiss.IndexIDMap(article_index)\n",
    "\n",
    "# IDs for the relevant articles\n",
    "article_ids = np.array([i for i in range(len(relevant_articles))], dtype='int64')\n",
    "\n",
    "# Add vectors and their IDs to the index\n",
    "article_index.add_with_ids(article_embeddings, article_ids)\n",
    "\n",
    "# Save the index to disk (optional)\n",
    "faiss.write_index(article_index, \"relevant_articles.index\")\n",
    "\n",
    "# Perform the search within the relevant articles\n",
    "def query_relevant_articles(query, k=5):\n",
    "    query_embedding = np.array(get_embedding(query)).astype('float32').reshape(1, -1)\n",
    "    distances, indices = article_index.search(query_embedding, k)\n",
    "    matching_articles = [relevant_articles[i] for i in indices[0]]\n",
    "    return matching_articles\n",
    "\n",
    "# Example query within the topic group\n",
    "response_string = \"\"\n",
    "matching_articles = query_relevant_articles(user_query)\n",
    "for article in matching_articles:\n",
    "    #print(f\"Article Number: {article['article_number']}, Title: {article['title']}, Text: {article['text']}\")\n",
    "    response_string += f\"Article Number: {article['article_number']}, Title: {article['title']}, Text: {article['text']}\\n\" + \"\\n\"\n",
    "    #response_string = response_string.replace(\"\\n\", \"\").strip()\n",
    "   \n",
    "print(response_string)\n"
   ]
  },
  {
   "cell_type": "code",
   "execution_count": null,
   "metadata": {},
   "outputs": [],
   "source": []
  },
  {
   "cell_type": "code",
   "execution_count": 19,
   "metadata": {},
   "outputs": [
    {
     "name": "stdout",
     "output_type": "stream",
     "text": [
      "I cant answer that\n"
     ]
    }
   ],
   "source": [
    "from openai import OpenAI\n",
    "\n",
    "response = client.chat.completions.create(\n",
    "  model=\"gpt-3.5-turbo-0125\",\n",
    "  messages=[\n",
    "    {\"role\": \"system\", \"content\": f\"You are a helpful assistant. Who ansers the User Question on ONLY referencing the given Articles. {response_string} Decide if the Question can be relevantely answered using the Articles. Always Cite the Article you are refering to. If can confidentally anwer. Say 'I cant answer that'\"},\n",
    "    {\"role\": \"user\", \"content\": f\"{user_query}\"}\n",
    "  ]\n",
    ")\n",
    "\n",
    "print(response.choices[0].message.content)"
   ]
  }
 ],
 "metadata": {
  "kernelspec": {
   "display_name": "ChatTest",
   "language": "python",
   "name": "python3"
  },
  "language_info": {
   "codemirror_mode": {
    "name": "ipython",
    "version": 3
   },
   "file_extension": ".py",
   "mimetype": "text/x-python",
   "name": "python",
   "nbconvert_exporter": "python",
   "pygments_lexer": "ipython3",
   "version": "3.12.2"
  }
 },
 "nbformat": 4,
 "nbformat_minor": 2
}
